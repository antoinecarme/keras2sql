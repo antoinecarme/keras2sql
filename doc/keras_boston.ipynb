{
 "cells": [
  {
   "cell_type": "code",
   "execution_count": 1,
   "metadata": {},
   "outputs": [
    {
     "name": "stderr",
     "output_type": "stream",
     "text": [
      "Using TensorFlow backend.\n"
     ]
    }
   ],
   "source": [
    "import os, numpy as np\n",
    "import pandas as pd\n",
    "\n",
    "os.environ[\"KERAS_BACKEND\"] = \"tensorflow\"\n",
    "\n",
    "import keras \n",
    "from sklearn import datasets\n",
    "\n",
    "from sklearn.model_selection import train_test_split\n",
    "\n",
    "\n",
    "\n",
    "keras.backend.set_floatx('float64')\n",
    "\n",
    "from keras.utils import np_utils\n",
    "\n",
    "\n",
    "def set_reproducible():\n",
    "    import tensorflow as tf\n",
    "    import random as rn\n",
    "    import os\n",
    "    os.environ['PYTHONHASHSEED'] = '1960'\n",
    "    rn.seed(1960)\n",
    "    np.random.seed(1960)\n",
    "    session_conf = tf.ConfigProto(intra_op_parallelism_threads=1, inter_op_parallelism_threads=1)\n",
    "\n",
    "    from keras import backend as K\n",
    "    tf.set_random_seed(1960)\n",
    "\n",
    "    sess = tf.Session(graph=tf.get_default_graph(), config=session_conf)\n",
    "    # K.set_session(sess)\n",
    "\n",
    "set_reproducible()\n"
   ]
  },
  {
   "cell_type": "markdown",
   "metadata": {},
   "source": [
    "# Build a Keras Model"
   ]
  },
  {
   "cell_type": "code",
   "execution_count": 2,
   "metadata": {
    "format": "row"
   },
   "outputs": [],
   "source": [
    "\n",
    "\n",
    "def create_model():\n",
    "    from keras.models import Sequential\n",
    "    from keras.layers.core import Dense, Activation, Dropout\n",
    "\n",
    "    model = Sequential()\n",
    "    model.add(Dense(16, input_dim=13))\n",
    "    model.add(Dropout(0.3))\n",
    "    model.add(Dense(12, activation='relu'))\n",
    "    model.add(Dense(1))\n",
    "    model.compile(optimizer='rmsprop', loss='mse')\n",
    "    return model"
   ]
  },
  {
   "cell_type": "code",
   "execution_count": 3,
   "metadata": {},
   "outputs": [],
   "source": [
    "boston  = datasets.load_boston()\n",
    "train_X, test_X, train_y, test_y = train_test_split(boston.data, boston.target, train_size=0.8, test_size=0.2, random_state=1960)\n"
   ]
  },
  {
   "cell_type": "code",
   "execution_count": null,
   "metadata": {},
   "outputs": [],
   "source": []
  },
  {
   "cell_type": "code",
   "execution_count": 4,
   "metadata": {},
   "outputs": [
    {
     "name": "stderr",
     "output_type": "stream",
     "text": [
      "WARNING: Logging before flag parsing goes to stderr.\n",
      "W0704 22:14:35.217032 139717328930624 deprecation.py:506] From /home/antoine/.local/lib/python3.7/site-packages/keras/backend/tensorflow_backend.py:3445: calling dropout (from tensorflow.python.ops.nn_ops) with keep_prob is deprecated and will be removed in a future version.\n",
      "Instructions for updating:\n",
      "Please use `rate` instead of `keep_prob`. Rate should be set to `rate = 1 - keep_prob`.\n"
     ]
    },
    {
     "name": "stdout",
     "output_type": "stream",
     "text": [
      "(404, 13) (404,)\n"
     ]
    },
    {
     "data": {
      "text/plain": [
       "<keras.callbacks.History at 0x7f12610ecb70>"
      ]
     },
     "execution_count": 4,
     "metadata": {},
     "output_type": "execute_result"
    }
   ],
   "source": [
    "\n",
    "from keras.wrappers.scikit_learn import KerasRegressor\n",
    "\n",
    "clf = KerasRegressor(build_fn=create_model, epochs=12, verbose=0)\n",
    "\n",
    "print(train_X.shape , train_y.shape)\n",
    "clf.fit(train_X, train_y, verbose=0)"
   ]
  },
  {
   "cell_type": "code",
   "execution_count": 5,
   "metadata": {},
   "outputs": [
    {
     "name": "stdout",
     "output_type": "stream",
     "text": [
      "(102, 13)\n",
      "13.80997968018234\n"
     ]
    }
   ],
   "source": [
    "print(test_X.shape)\n",
    "preds = clf.predict(test_X[0,:].reshape(1,13))\n",
    "print(preds)\n"
   ]
  },
  {
   "cell_type": "code",
   "execution_count": null,
   "metadata": {},
   "outputs": [],
   "source": []
  },
  {
   "cell_type": "markdown",
   "metadata": {},
   "source": [
    "# Generate SQL Code from the Model"
   ]
  },
  {
   "cell_type": "code",
   "execution_count": 6,
   "metadata": {},
   "outputs": [],
   "source": [
    "import json, requests, base64, dill as pickle, sys\n",
    "\n",
    "\n",
    "\n",
    "sys.setrecursionlimit(200000)\n",
    "pickle.settings['recurse'] = False\n",
    "\n",
    "\n",
    "def test_ws_sql_gen(pickle_data):\n",
    "    WS_URL=\"https://sklearn2sql.herokuapp.com/model\"\n",
    "    b64_data = base64.b64encode(pickle_data).decode('utf-8')\n",
    "    data={\"Name\":\"model1\", \"PickleData\":b64_data , \"SQLDialect\":\"postgresql\"}\n",
    "    r = requests.post(WS_URL, json=data)\n",
    "    # print(r.__dict__)\n",
    "    content = r.json()\n",
    "    # print(content)\n",
    "    lSQL = content[\"model\"][\"SQLGenrationResult\"][0][\"SQL\"]\n",
    "    return lSQL;\n"
   ]
  },
  {
   "cell_type": "code",
   "execution_count": 7,
   "metadata": {},
   "outputs": [],
   "source": [
    "\n",
    "pickle_data = pickle.dumps(clf)\n",
    "lSQL = test_ws_sql_gen(pickle_data)\n"
   ]
  },
  {
   "cell_type": "code",
   "execution_count": 8,
   "metadata": {
    "scrolled": false
   },
   "outputs": [
    {
     "name": "stdout",
     "output_type": "stream",
     "text": [
      "WITH keras_input AS \n",
      "(SELECT \"ADS\".\"KEY\" AS \"KEY\", \"ADS\".\"Feature_0\" AS \"Feature_0\", \"ADS\".\"Feature_1\" AS \"Feature_1\", \"ADS\".\"Feature_2\" AS \"Feature_2\", \"ADS\".\"Feature_3\" AS \"Feature_3\", \"ADS\".\"Feature_4\" AS \"Feature_4\", \"ADS\".\"Feature_5\" AS \"Feature_5\", \"ADS\".\"Feature_6\" AS \"Feature_6\", \"ADS\".\"Feature_7\" AS \"Feature_7\", \"ADS\".\"Feature_8\" AS \"Feature_8\", \"ADS\".\"Feature_9\" AS \"Feature_9\", \"ADS\".\"Feature_10\" AS \"Feature_10\", \"ADS\".\"Feature_11\" AS \"Feature_11\", \"ADS\".\"Feature_12\" AS \"Feature_12\" \n",
      "FROM \"INPUT_DATA\" AS \"ADS\"), \n",
      "keras_input_1 AS \n",
      "(SELECT keras_input.\"KEY\" AS \"KEY\", keras_input.\"Feature_0\" AS \"Feature_0\", keras_input.\"Feature_1\" AS \"Feature_1\", keras_input.\"Feature_2\" AS \"Feature_2\", keras_input.\"Feature_3\" AS \"Feature_3\", keras_input.\"Feature_4\" AS \"Feature_4\", keras_input.\"Feature_5\" AS \"Feature_5\", keras_input.\"Feature_6\" AS \"Feature_6\", keras_input.\"Feature_7\" AS \"Feature_7\", keras_input.\"Feature_8\" AS \"Feature_8\", keras_input.\"Feature_9\" AS \"Feature_9\", keras_input.\"Feature_10\" AS \"Feature_10\", keras_input.\"Feature_11\" AS \"Feature_11\", keras_input.\"Feature_12\" AS \"Feature_12\" \n",
      "FROM keras_input), \n",
      "layer_dense_1 AS \n",
      "(SELECT keras_input_1.\"KEY\" AS \"KEY\", -0.018780946665900262 + -0.11792691757492217 * keras_input_1.\"Feature_0\" + 0.43256652352330693 * keras_input_1.\"Feature_1\" + 0.09225023940838126 * keras_input_1.\"Feature_2\" + -0.2515314308139363 * keras_input_1.\"Feature_3\" + 0.2623731255745226 * keras_input_1.\"Feature_4\" + -0.14417766709980467 * keras_input_1.\"Feature_5\" + 0.042137349321027306 * keras_input_1.\"Feature_6\" + 0.18273410940605495 * keras_input_1.\"Feature_7\" + -0.33908113051813193 * keras_input_1.\"Feature_8\" + 0.41282343616116474 * keras_input_1.\"Feature_9\" + 0.31618812493284354 * keras_input_1.\"Feature_10\" + -0.363411983847386 * keras_input_1.\"Feature_11\" + 0.09230969318574749 * keras_input_1.\"Feature_12\" AS output_1, -0.018917573870287835 + 0.1899761845777062 * keras_input_1.\"Feature_0\" + 0.048930253922145804 * keras_input_1.\"Feature_1\" + -0.07283887837391588 * keras_input_1.\"Feature_2\" + 0.03409033770730009 * keras_input_1.\"Feature_3\" + -0.4119545524213221 * keras_input_1.\"Feature_4\" + -0.388718843612904 * keras_input_1.\"Feature_5\" + -0.13824432187548594 * keras_input_1.\"Feature_6\" + -0.028500802756789175 * keras_input_1.\"Feature_7\" + 0.30555256450367424 * keras_input_1.\"Feature_8\" + -0.06211793136536842 * keras_input_1.\"Feature_9\" + -0.4148824974403613 * keras_input_1.\"Feature_10\" + -0.174525398300812 * keras_input_1.\"Feature_11\" + -0.3135063533432942 * keras_input_1.\"Feature_12\" AS output_2, -0.02468190692174632 + 0.14286594754194354 * keras_input_1.\"Feature_0\" + 0.14507746673824004 * keras_input_1.\"Feature_1\" + 0.4386470646584125 * keras_input_1.\"Feature_2\" + 0.1833133908894048 * keras_input_1.\"Feature_3\" + 0.2552244585419817 * keras_input_1.\"Feature_4\" + -0.2667090852769163 * keras_input_1.\"Feature_5\" + 0.03431945244024788 * keras_input_1.\"Feature_6\" + 0.10538166965557227 * keras_input_1.\"Feature_7\" + 0.12668521014732065 * keras_input_1.\"Feature_8\" + 0.27307683223264884 * keras_input_1.\"Feature_9\" + -0.29906624856501646 * keras_input_1.\"Feature_10\" + -0.19085208690704078 * keras_input_1.\"Feature_11\" + 0.353113134523399 * keras_input_1.\"Feature_12\" AS output_3, -0.030394236483202285 + 0.4184674002133756 * keras_input_1.\"Feature_0\" + -0.23846125209704877 * keras_input_1.\"Feature_1\" + -0.23216546884115247 * keras_input_1.\"Feature_2\" + 0.1130802344110828 * keras_input_1.\"Feature_3\" + 0.39491262700275176 * keras_input_1.\"Feature_4\" + -0.01150499259589662 * keras_input_1.\"Feature_5\" + 0.1600860957988625 * keras_input_1.\"Feature_6\" + 0.005349623540521818 * keras_input_1.\"Feature_7\" + -0.2545859934328547 * keras_input_1.\"Feature_8\" + 0.13080564151550725 * keras_input_1.\"Feature_9\" + 0.3299657548176548 * keras_input_1.\"Feature_10\" + 0.03018479447524449 * keras_input_1.\"Feature_11\" + 0.22119761806594357 * keras_input_1.\"Feature_12\" AS output_4, 0.02051757716524997 + -0.1412567121142215 * keras_input_1.\"Feature_0\" + 0.2001435124635931 * keras_input_1.\"Feature_1\" + 0.4417520008810572 * keras_input_1.\"Feature_2\" + 0.041089476336923045 * keras_input_1.\"Feature_3\" + 0.04787245097306714 * keras_input_1.\"Feature_4\" + -0.12059595634723108 * keras_input_1.\"Feature_5\" + -0.13232662570294673 * keras_input_1.\"Feature_6\" + 0.48439976550371733 * keras_input_1.\"Feature_7\" + -0.29825194543061856 * keras_input_1.\"Feature_8\" + 0.2688501929311383 * keras_input_1.\"Feature_9\" + 0.10971846905495 * keras_input_1.\"Feature_10\" + -0.33880689041603124 * keras_input_1.\"Feature_11\" + 0.16340419548280777 * keras_input_1.\"Feature_12\" AS output_5, 0.032031306274490995 + 0.40111003715593 * keras_input_1.\"Feature_0\" + -0.21006461022756476 * keras_input_1.\"Feature_1\" + 0.4690630229939162 * keras_input_1.\"Feature_2\" + 0.317774411531292 * keras_input_1.\"Feature_3\" + -0.05947711526531544 * keras_input_1.\"Feature_4\" + 0.13298709835435552 * keras_input_1.\"Feature_5\" + 0.33190787423723417 * keras_input_1.\"Feature_6\" + 0.06506501852288409 * keras_input_1.\"Feature_7\" + 0.18841758783238205 * keras_input_1.\"Feature_8\" + 0.2995179472468783 * keras_input_1.\"Feature_9\" + -0.25461324283992326 * keras_input_1.\"Feature_10\" + -0.02754665149300535 * keras_input_1.\"Feature_11\" + 0.5110450255204183 * keras_input_1.\"Feature_12\" AS output_6, 0.06329828838324543 + 0.041733949890675956 * keras_input_1.\"Feature_0\" + 0.42595570462652277 * keras_input_1.\"Feature_1\" + -0.17783612939665785 * keras_input_1.\"Feature_2\" + -0.20716125049784584 * keras_input_1.\"Feature_3\" + 0.1613746495832752 * keras_input_1.\"Feature_4\" + -0.1465587693660083 * keras_input_1.\"Feature_5\" + 0.33781073027384195 * keras_input_1.\"Feature_6\" + 0.31325180033113076 * keras_input_1.\"Feature_7\" + 0.39275390452038705 * keras_input_1.\"Feature_8\" + -0.1289280762186758 * keras_input_1.\"Feature_9\" + 0.0038039122023716086 * keras_input_1.\"Feature_10\" + -0.25649142433240407 * keras_input_1.\"Feature_11\" + -0.11247230161024487 * keras_input_1.\"Feature_12\" AS output_7, -0.0030134048755012465 + -0.09982151623456567 * keras_input_1.\"Feature_0\" + -0.19157961905615373 * keras_input_1.\"Feature_1\" + -0.11802979132822618 * keras_input_1.\"Feature_2\" + -0.0017352901527846031 * keras_input_1.\"Feature_3\" + -0.05957668729048519 * keras_input_1.\"Feature_4\" + 0.3638348102858001 * keras_input_1.\"Feature_5\" + -0.16603432618574435 * keras_input_1.\"Feature_6\" + 0.1918643033394883 * keras_input_1.\"Feature_7\" + 0.31125765604397543 * keras_input_1.\"Feature_8\" + -0.3262464738001413 * keras_input_1.\"Feature_9\" + 0.35447939876348183 * keras_input_1.\"Feature_10\" + 0.24565265199526823 * keras_input_1.\"Feature_11\" + -0.39323942780985055 * keras_input_1.\"Feature_12\" AS output_8, 0.08780032548315182 + 0.38719492414383355 * keras_input_1.\"Feature_0\" + 0.261458111703853 * keras_input_1.\"Feature_1\" + 0.27061405748217227 * keras_input_1.\"Feature_2\" + -0.06706909926162498 * keras_input_1.\"Feature_3\" + 0.19845899731381514 * keras_input_1.\"Feature_4\" + 0.15923387202117303 * keras_input_1.\"Feature_5\" + 0.4477116696162058 * keras_input_1.\"Feature_6\" + -0.3256595992896236 * keras_input_1.\"Feature_7\" + -0.19110790618689252 * keras_input_1.\"Feature_8\" + 0.12114090410555284 * keras_input_1.\"Feature_9\" + 0.3365192539639209 * keras_input_1.\"Feature_10\" + 0.19155742334598191 * keras_input_1.\"Feature_11\" + -0.29598303329372183 * keras_input_1.\"Feature_12\" AS output_9, -0.012235210916553298 + 0.18712729426086938 * keras_input_1.\"Feature_0\" + -0.19901069725275555 * keras_input_1.\"Feature_1\" + -0.18783088178476576 * keras_input_1.\"Feature_2\" + -0.3110406561789122 * keras_input_1.\"Feature_3\" + 0.3010798657827131 * keras_input_1.\"Feature_4\" + 0.36840484775177346 * keras_input_1.\"Feature_5\" + -0.44053634166651057 * keras_input_1.\"Feature_6\" + -0.017002862665943152 * keras_input_1.\"Feature_7\" + -0.4070454871510558 * keras_input_1.\"Feature_8\" + -0.0572254699633198 * keras_input_1.\"Feature_9\" + 0.2219130818970736 * keras_input_1.\"Feature_10\" + -0.3159947141420052 * keras_input_1.\"Feature_11\" + 0.3485805065321776 * keras_input_1.\"Feature_12\" AS output_10, 0.016161279269197977 + 0.09036690895530407 * keras_input_1.\"Feature_0\" + 0.30345676472160465 * keras_input_1.\"Feature_1\" + 0.05538500251657376 * keras_input_1.\"Feature_2\" + 0.31728459966121186 * keras_input_1.\"Feature_3\" + -0.29543925444637675 * keras_input_1.\"Feature_4\" + 0.14863048719310382 * keras_input_1.\"Feature_5\" + -0.2605913839350895 * keras_input_1.\"Feature_6\" + -0.3985677304275097 * keras_input_1.\"Feature_7\" + 0.1769428782075644 * keras_input_1.\"Feature_8\" + -0.282349350276838 * keras_input_1.\"Feature_9\" + -0.15154952329478918 * keras_input_1.\"Feature_10\" + -0.3443369853305718 * keras_input_1.\"Feature_11\" + -0.026259933304508168 * keras_input_1.\"Feature_12\" AS output_11, -0.03733579561285181 + -0.14564431559388993 * keras_input_1.\"Feature_0\" + 0.014883707030491702 * keras_input_1.\"Feature_1\" + 0.40970049444073864 * keras_input_1.\"Feature_2\" + 0.1648355736273254 * keras_input_1.\"Feature_3\" + 0.2726274687610971 * keras_input_1.\"Feature_4\" + -0.016647307506734547 * keras_input_1.\"Feature_5\" + 0.11694227249844444 * keras_input_1.\"Feature_6\" + 0.07772531249904462 * keras_input_1.\"Feature_7\" + -0.46621967277076665 * keras_input_1.\"Feature_8\" + 0.26639971340941304 * keras_input_1.\"Feature_9\" + 0.17231471579650492 * keras_input_1.\"Feature_10\" + -0.41353230317229034 * keras_input_1.\"Feature_11\" + 0.1919911425606478 * keras_input_1.\"Feature_12\" AS output_12, -0.0258101479027395 + 0.04008490719380913 * keras_input_1.\"Feature_0\" + 0.03975004319785845 * keras_input_1.\"Feature_1\" + -0.12907278060346566 * keras_input_1.\"Feature_2\" + -0.4456132064544565 * keras_input_1.\"Feature_3\" + 0.22894641128899926 * keras_input_1.\"Feature_4\" + -0.2107657266929804 * keras_input_1.\"Feature_5\" + 0.009118301302156576 * keras_input_1.\"Feature_6\" + 0.27378680705032743 * keras_input_1.\"Feature_7\" + 0.33015040890175146 * keras_input_1.\"Feature_8\" + 0.20399571949118506 * keras_input_1.\"Feature_9\" + -0.3529198388722338 * keras_input_1.\"Feature_10\" + -0.14410518546872153 * keras_input_1.\"Feature_11\" + -0.09604625994517069 * keras_input_1.\"Feature_12\" AS output_13, -0.07001474213488024 + -0.23391391898479097 * keras_input_1.\"Feature_0\" + -0.1330531246795072 * keras_input_1.\"Feature_1\" + -0.14964332216083193 * keras_input_1.\"Feature_2\" + -0.3359982728431067 * keras_input_1.\"Feature_3\" + 0.055642365286439927 * keras_input_1.\"Feature_4\" + 0.034209849532235256 * keras_input_1.\"Feature_5\" + 0.11588694371417449 * keras_input_1.\"Feature_6\" + -0.26636721399989477 * keras_input_1.\"Feature_7\" + -0.20444964474613564 * keras_input_1.\"Feature_8\" + -0.07153594822832549 * keras_input_1.\"Feature_9\" + -0.3503637039937462 * keras_input_1.\"Feature_10\" + 0.04042960681400232 * keras_input_1.\"Feature_11\" + 0.07212620179930357 * keras_input_1.\"Feature_12\" AS output_14, 0.07157602624846658 + -0.4244157629998612 * keras_input_1.\"Feature_0\" + -0.27138038550812343 * keras_input_1.\"Feature_1\" + 0.052365484908671316 * keras_input_1.\"Feature_2\" + -0.2794323500192087 * keras_input_1.\"Feature_3\" + -0.20243271923818992 * keras_input_1.\"Feature_4\" + 0.36295411933425836 * keras_input_1.\"Feature_5\" + -0.23274146916654945 * keras_input_1.\"Feature_6\" + 0.16868501644681425 * keras_input_1.\"Feature_7\" + 0.17010794852878441 * keras_input_1.\"Feature_8\" + -0.019927195424928962 * keras_input_1.\"Feature_9\" + 0.5217243263829315 * keras_input_1.\"Feature_10\" + -0.1994431141482952 * keras_input_1.\"Feature_11\" + -0.198013642995856 * keras_input_1.\"Feature_12\" AS output_15, -0.07453186549644521 + -0.10522526952680532 * keras_input_1.\"Feature_0\" + -0.08310451798593034 * keras_input_1.\"Feature_1\" + 0.2807728307843055 * keras_input_1.\"Feature_2\" + 0.3465502957713608 * keras_input_1.\"Feature_3\" + -0.2545578955345198 * keras_input_1.\"Feature_4\" + -0.03870233686246144 * keras_input_1.\"Feature_5\" + -0.057316661171432824 * keras_input_1.\"Feature_6\" + -0.38281299293868937 * keras_input_1.\"Feature_7\" + -0.26759567171493587 * keras_input_1.\"Feature_8\" + 0.1580192724828615 * keras_input_1.\"Feature_9\" + -0.27692714225400594 * keras_input_1.\"Feature_10\" + 0.15083643909406685 * keras_input_1.\"Feature_11\" + -0.13738940602771937 * keras_input_1.\"Feature_12\" AS output_16 \n",
      "FROM keras_input_1), \n",
      "layer_dense_1_1 AS \n",
      "(SELECT layer_dense_1.\"KEY\" AS \"KEY\", layer_dense_1.output_1 AS output_1, layer_dense_1.output_2 AS output_2, layer_dense_1.output_3 AS output_3, layer_dense_1.output_4 AS output_4, layer_dense_1.output_5 AS output_5, layer_dense_1.output_6 AS output_6, layer_dense_1.output_7 AS output_7, layer_dense_1.output_8 AS output_8, layer_dense_1.output_9 AS output_9, layer_dense_1.output_10 AS output_10, layer_dense_1.output_11 AS output_11, layer_dense_1.output_12 AS output_12, layer_dense_1.output_13 AS output_13, layer_dense_1.output_14 AS output_14, layer_dense_1.output_15 AS output_15, layer_dense_1.output_16 AS output_16 \n",
      "FROM layer_dense_1), \n",
      "layer_dense_1_1_1 AS \n",
      "(SELECT layer_dense_1_1.\"KEY\" AS \"KEY\", layer_dense_1_1.output_1 AS output_1, layer_dense_1_1.output_2 AS output_2, layer_dense_1_1.output_3 AS output_3, layer_dense_1_1.output_4 AS output_4, layer_dense_1_1.output_5 AS output_5, layer_dense_1_1.output_6 AS output_6, layer_dense_1_1.output_7 AS output_7, layer_dense_1_1.output_8 AS output_8, layer_dense_1_1.output_9 AS output_9, layer_dense_1_1.output_10 AS output_10, layer_dense_1_1.output_11 AS output_11, layer_dense_1_1.output_12 AS output_12, layer_dense_1_1.output_13 AS output_13, layer_dense_1_1.output_14 AS output_14, layer_dense_1_1.output_15 AS output_15, layer_dense_1_1.output_16 AS output_16 \n",
      "FROM layer_dense_1_1), \n",
      "layer_dense_2 AS \n",
      "(SELECT layer_dense_1_1_1.\"KEY\" AS \"KEY\", 0.05822450577458138 + -0.2515366127378835 * layer_dense_1_1_1.output_1 + -0.028485277209000577 * layer_dense_1_1_1.output_2 + -0.05446871550028487 * layer_dense_1_1_1.output_3 + 0.11425718349701378 * layer_dense_1_1_1.output_4 + -0.3107397936918482 * layer_dense_1_1_1.output_5 + 0.00982147839917159 * layer_dense_1_1_1.output_6 + -0.2412990864523834 * layer_dense_1_1_1.output_7 + -0.13793662817934338 * layer_dense_1_1_1.output_8 + 0.06716652772711477 * layer_dense_1_1_1.output_9 + 0.16981339207285404 * layer_dense_1_1_1.output_10 + 0.27984843397396825 * layer_dense_1_1_1.output_11 + 0.3754973330744173 * layer_dense_1_1_1.output_12 + -0.1523549104254838 * layer_dense_1_1_1.output_13 + 0.24995359886034338 * layer_dense_1_1_1.output_14 + -0.2962618765656767 * layer_dense_1_1_1.output_15 + 0.1835034873363014 * layer_dense_1_1_1.output_16 AS output_1, -0.0016585303174178408 + -0.0940605353913669 * layer_dense_1_1_1.output_1 + 0.21755374542393985 * layer_dense_1_1_1.output_2 + -0.41550535715654846 * layer_dense_1_1_1.output_3 + -0.35366923425515007 * layer_dense_1_1_1.output_4 + 0.021048199284948894 * layer_dense_1_1_1.output_5 + -0.28707162011220827 * layer_dense_1_1_1.output_6 + 0.3923802234168167 * layer_dense_1_1_1.output_7 + -0.13570218183283622 * layer_dense_1_1_1.output_8 + 0.24856815517912323 * layer_dense_1_1_1.output_9 + 0.15040391048273388 * layer_dense_1_1_1.output_10 + 0.36185618056254354 * layer_dense_1_1_1.output_11 + -0.14726197311083286 * layer_dense_1_1_1.output_12 + -0.08659520621325796 * layer_dense_1_1_1.output_13 + -0.44663986232767805 * layer_dense_1_1_1.output_14 + -0.17655134162915623 * layer_dense_1_1_1.output_15 + 0.07880115545758361 * layer_dense_1_1_1.output_16 AS output_2, -0.07570425009144782 + -0.09001156263875106 * layer_dense_1_1_1.output_1 + 0.015465034422865414 * layer_dense_1_1_1.output_2 + 0.2838471247394952 * layer_dense_1_1_1.output_3 + -0.16014681248401366 * layer_dense_1_1_1.output_4 + -0.11793931565465747 * layer_dense_1_1_1.output_5 + -0.4972665270878918 * layer_dense_1_1_1.output_6 + -0.29551949752070156 * layer_dense_1_1_1.output_7 + 0.07934261770979215 * layer_dense_1_1_1.output_8 + -0.08602438487705368 * layer_dense_1_1_1.output_9 + 0.006340838396906752 * layer_dense_1_1_1.output_10 + 0.3145371026558705 * layer_dense_1_1_1.output_11 + 0.01707373166668385 * layer_dense_1_1_1.output_12 + -0.1654741269700837 * layer_dense_1_1_1.output_13 + 0.4171356779936038 * layer_dense_1_1_1.output_14 + -0.2577878658151989 * layer_dense_1_1_1.output_15 + -0.3256777252159588 * layer_dense_1_1_1.output_16 AS output_3, -0.01302888848663631 + -0.2703624283341754 * layer_dense_1_1_1.output_1 + 0.022049684938343014 * layer_dense_1_1_1.output_2 + -0.3454597144705211 * layer_dense_1_1_1.output_3 + -0.40596814466641246 * layer_dense_1_1_1.output_4 + 0.4324240663733944 * layer_dense_1_1_1.output_5 + -0.23188231695306108 * layer_dense_1_1_1.output_6 + -0.31183114275258833 * layer_dense_1_1_1.output_7 + -0.04438847415254063 * layer_dense_1_1_1.output_8 + -0.16062014722688064 * layer_dense_1_1_1.output_9 + 0.1764210955674232 * layer_dense_1_1_1.output_10 + -0.2572963145452582 * layer_dense_1_1_1.output_11 + 0.4078173173083859 * layer_dense_1_1_1.output_12 + -0.22842576305363196 * layer_dense_1_1_1.output_13 + -0.3292990599250621 * layer_dense_1_1_1.output_14 + 0.3951388702270874 * layer_dense_1_1_1.output_15 + 0.13260635732984186 * layer_dense_1_1_1.output_16 AS output_4, -0.07632365858694375 + -0.30932733374331856 * layer_dense_1_1_1.output_1 + 0.22746342563120703 * layer_dense_1_1_1.output_2 + -0.03942054589605482 * layer_dense_1_1_1.output_3 + 0.14618297309606149 * layer_dense_1_1_1.output_4 + 0.08836029702588166 * layer_dense_1_1_1.output_5 + 0.01844565531758022 * layer_dense_1_1_1.output_6 + 0.07231576107979243 * layer_dense_1_1_1.output_7 + 0.38518996993770904 * layer_dense_1_1_1.output_8 + -0.20645934392214774 * layer_dense_1_1_1.output_9 + 0.2056825576399785 * layer_dense_1_1_1.output_10 + 0.04994372519478435 * layer_dense_1_1_1.output_11 + 0.1837425912258281 * layer_dense_1_1_1.output_12 + 0.3403051794569013 * layer_dense_1_1_1.output_13 + 0.22247500673883805 * layer_dense_1_1_1.output_14 + -0.14284348926108223 * layer_dense_1_1_1.output_15 + 0.14215494370587925 * layer_dense_1_1_1.output_16 AS output_5, 0.03648436094653201 + 0.04859841097866403 * layer_dense_1_1_1.output_1 + 0.4425969446379873 * layer_dense_1_1_1.output_2 + -0.1781831443787225 * layer_dense_1_1_1.output_3 + 0.017302196382775976 * layer_dense_1_1_1.output_4 + -0.20922061519200802 * layer_dense_1_1_1.output_5 + 0.1409131722799514 * layer_dense_1_1_1.output_6 + -0.0066184496569326986 * layer_dense_1_1_1.output_7 + 0.3617555804191335 * layer_dense_1_1_1.output_8 + -0.03160120499727681 * layer_dense_1_1_1.output_9 + 0.26196355109586367 * layer_dense_1_1_1.output_10 + 0.024230938075012594 * layer_dense_1_1_1.output_11 + 0.303238321871765 * layer_dense_1_1_1.output_12 + 0.3715633711381653 * layer_dense_1_1_1.output_13 + 0.393041300870618 * layer_dense_1_1_1.output_14 + -0.09528076328873072 * layer_dense_1_1_1.output_15 + -0.3538986884304764 * layer_dense_1_1_1.output_16 AS output_6, -0.07706495300912711 + 0.38119362707860527 * layer_dense_1_1_1.output_1 + 0.27069436449462736 * layer_dense_1_1_1.output_2 + -0.4882392266714026 * layer_dense_1_1_1.output_3 + -0.09555972110997425 * layer_dense_1_1_1.output_4 + -0.20486068083850462 * layer_dense_1_1_1.output_5 + -0.43368453792718337 * layer_dense_1_1_1.output_6 + 0.0813791773409296 * layer_dense_1_1_1.output_7 + -0.32846213149374787 * layer_dense_1_1_1.output_8 + -0.12220338935210756 * layer_dense_1_1_1.output_9 + 0.20055090976687096 * layer_dense_1_1_1.output_10 + -0.25703285634025685 * layer_dense_1_1_1.output_11 + -0.016588510023926688 * layer_dense_1_1_1.output_12 + -0.004586578768157664 * layer_dense_1_1_1.output_13 + 0.22699499401549764 * layer_dense_1_1_1.output_14 + 0.28361122720131954 * layer_dense_1_1_1.output_15 + -0.43731043425612576 * layer_dense_1_1_1.output_16 AS output_7, 0.057234455515810134 + -0.09364830592992573 * layer_dense_1_1_1.output_1 + -0.16666508778859646 * layer_dense_1_1_1.output_2 + -0.42262850408506325 * layer_dense_1_1_1.output_3 + 0.10756561633361994 * layer_dense_1_1_1.output_4 + 0.42748152434676273 * layer_dense_1_1_1.output_5 + -0.13379051685107804 * layer_dense_1_1_1.output_6 + 0.1973294382494612 * layer_dense_1_1_1.output_7 + -0.3218931949825453 * layer_dense_1_1_1.output_8 + 0.3072174455585193 * layer_dense_1_1_1.output_9 + -0.1639965269470766 * layer_dense_1_1_1.output_10 + -0.04626401623769554 * layer_dense_1_1_1.output_11 + -0.31215591083116845 * layer_dense_1_1_1.output_12 + 0.13041044127978946 * layer_dense_1_1_1.output_13 + 0.15599282827565367 * layer_dense_1_1_1.output_14 + 0.26996784926491696 * layer_dense_1_1_1.output_15 + -0.45074370702137967 * layer_dense_1_1_1.output_16 AS output_8, -0.03849420157991503 + -0.2223108115827446 * layer_dense_1_1_1.output_1 + -0.36318439583546613 * layer_dense_1_1_1.output_2 + -0.46123386213624895 * layer_dense_1_1_1.output_3 + 0.14919932623723972 * layer_dense_1_1_1.output_4 + 0.23090013963986358 * layer_dense_1_1_1.output_5 + -0.17328281844722457 * layer_dense_1_1_1.output_6 + 0.20832615329226764 * layer_dense_1_1_1.output_7 + 0.25667494167520377 * layer_dense_1_1_1.output_8 + -0.37289147384614635 * layer_dense_1_1_1.output_9 + 0.24045793671731697 * layer_dense_1_1_1.output_10 + -0.03417859074673944 * layer_dense_1_1_1.output_11 + 0.2527299582732061 * layer_dense_1_1_1.output_12 + 0.1299132615773618 * layer_dense_1_1_1.output_13 + -0.07955799562509273 * layer_dense_1_1_1.output_14 + 0.44494847254058456 * layer_dense_1_1_1.output_15 + 0.3033179061306589 * layer_dense_1_1_1.output_16 AS output_9, 0.05180063718882275 + 0.06137353240723382 * layer_dense_1_1_1.output_1 + 0.41091398576735677 * layer_dense_1_1_1.output_2 + -0.02478271871198969 * layer_dense_1_1_1.output_3 + 0.3585270486718011 * layer_dense_1_1_1.output_4 + -0.20222218647138743 * layer_dense_1_1_1.output_5 + -0.05498898852162464 * layer_dense_1_1_1.output_6 + 0.15365157525480005 * layer_dense_1_1_1.output_7 + -0.19667760971273787 * layer_dense_1_1_1.output_8 + 0.14490319936249174 * layer_dense_1_1_1.output_9 + -0.07823032220505226 * layer_dense_1_1_1.output_10 + -0.4358296559058778 * layer_dense_1_1_1.output_11 + -0.34283568216169724 * layer_dense_1_1_1.output_12 + -0.37051639262818986 * layer_dense_1_1_1.output_13 + 0.10274617564840588 * layer_dense_1_1_1.output_14 + -0.31376273996457554 * layer_dense_1_1_1.output_15 + -0.2489659491394469 * layer_dense_1_1_1.output_16 AS output_10, -0.06068294995851226 + -0.4757901800390702 * layer_dense_1_1_1.output_1 + 0.17111984511634273 * layer_dense_1_1_1.output_2 + 0.2531631741462145 * layer_dense_1_1_1.output_3 + -0.12710791429330737 * layer_dense_1_1_1.output_4 + -0.17528842019033797 * layer_dense_1_1_1.output_5 + -0.0158317345722563 * layer_dense_1_1_1.output_6 + 0.15678104026052758 * layer_dense_1_1_1.output_7 + 0.2959714607550066 * layer_dense_1_1_1.output_8 + -0.33959554749692134 * layer_dense_1_1_1.output_9 + -0.00787165470978474 * layer_dense_1_1_1.output_10 + 0.29951797763102633 * layer_dense_1_1_1.output_11 + 0.3830058816865181 * layer_dense_1_1_1.output_12 + -0.32754600971401676 * layer_dense_1_1_1.output_13 + 0.36798692228575347 * layer_dense_1_1_1.output_14 + -0.35983359993868497 * layer_dense_1_1_1.output_15 + 0.39747693071929896 * layer_dense_1_1_1.output_16 AS output_11, 0.00020896425237172916 + -0.3046234586673237 * layer_dense_1_1_1.output_1 + -0.14185777448220085 * layer_dense_1_1_1.output_2 + -0.13887713800539164 * layer_dense_1_1_1.output_3 + 0.39591928281998306 * layer_dense_1_1_1.output_4 + 0.026245866733075378 * layer_dense_1_1_1.output_5 + -0.3767559735518162 * layer_dense_1_1_1.output_6 + 0.16568500635521705 * layer_dense_1_1_1.output_7 + 0.30872947034639414 * layer_dense_1_1_1.output_8 + -0.4050826589337408 * layer_dense_1_1_1.output_9 + -0.27908960719778486 * layer_dense_1_1_1.output_10 + 0.36893271790137905 * layer_dense_1_1_1.output_11 + -0.20247983710246603 * layer_dense_1_1_1.output_12 + -0.14697719495113754 * layer_dense_1_1_1.output_13 + 0.43750212039720504 * layer_dense_1_1_1.output_14 + -0.33618667324561247 * layer_dense_1_1_1.output_15 + 0.30628256348757366 * layer_dense_1_1_1.output_16 AS output_12 \n",
      "FROM layer_dense_1_1_1), \n",
      "activation_relu AS \n",
      "(SELECT layer_dense_2.\"KEY\" AS \"KEY\", greatest(layer_dense_2.output_1, 0) AS output_1, greatest(layer_dense_2.output_2, 0) AS output_2, greatest(layer_dense_2.output_3, 0) AS output_3, greatest(layer_dense_2.output_4, 0) AS output_4, greatest(layer_dense_2.output_5, 0) AS output_5, greatest(layer_dense_2.output_6, 0) AS output_6, greatest(layer_dense_2.output_7, 0) AS output_7, greatest(layer_dense_2.output_8, 0) AS output_8, greatest(layer_dense_2.output_9, 0) AS output_9, greatest(layer_dense_2.output_10, 0) AS output_10, greatest(layer_dense_2.output_11, 0) AS output_11, greatest(layer_dense_2.output_12, 0) AS output_12 \n",
      "FROM layer_dense_2), \n",
      "activation_relu_1 AS \n",
      "(SELECT activation_relu.\"KEY\" AS \"KEY\", activation_relu.output_1 AS output_1, activation_relu.output_2 AS output_2, activation_relu.output_3 AS output_3, activation_relu.output_4 AS output_4, activation_relu.output_5 AS output_5, activation_relu.output_6 AS output_6, activation_relu.output_7 AS output_7, activation_relu.output_8 AS output_8, activation_relu.output_9 AS output_9, activation_relu.output_10 AS output_10, activation_relu.output_11 AS output_11, activation_relu.output_12 AS output_12 \n",
      "FROM activation_relu), \n",
      "layer_dense_3 AS \n",
      "(SELECT activation_relu_1.\"KEY\" AS \"KEY\", 0.08464684460941983 + 0.18776389096540944 * activation_relu_1.output_1 + 0.1857770489426799 * activation_relu_1.output_2 + -0.45891662427687085 * activation_relu_1.output_3 + 0.340778949773123 * activation_relu_1.output_4 + -0.2913181778349176 * activation_relu_1.output_5 + 0.19749477127062462 * activation_relu_1.output_6 + -0.474401850769506 * activation_relu_1.output_7 + 0.03279840709463445 * activation_relu_1.output_8 + -0.09096356351714575 * activation_relu_1.output_9 + 0.10633677080419489 * activation_relu_1.output_10 + -0.4006443664187707 * activation_relu_1.output_11 + 0.226801935288774 * activation_relu_1.output_12 AS output_1 \n",
      "FROM activation_relu_1)\n",
      " SELECT layer_dense_3.\"KEY\" AS \"KEY\", layer_dense_3.output_1 AS \"Estimator\" \n",
      "FROM layer_dense_3\n"
     ]
    }
   ],
   "source": [
    "print(lSQL)"
   ]
  },
  {
   "cell_type": "markdown",
   "metadata": {},
   "source": [
    "# Execute the SQL Code"
   ]
  },
  {
   "cell_type": "code",
   "execution_count": 9,
   "metadata": {},
   "outputs": [
    {
     "name": "stderr",
     "output_type": "stream",
     "text": [
      "/home/antoine/.local/lib/python3.7/site-packages/psycopg2/__init__.py:144: UserWarning: The psycopg2 wheel package will be renamed from release 2.8; in order to keep installing from binary please use \"pip install psycopg2-binary\" instead. For details see: <http://initd.org/psycopg/docs/install.html#binary-install-from-pypi>.\n",
      "  \"\"\")\n"
     ]
    }
   ],
   "source": [
    "# save the dataset in a database table\n",
    "\n",
    "\n",
    "import sqlalchemy as sa\n",
    "\n",
    "#engine = sa.create_engine('sqlite://' , echo=False)\n",
    "engine = sa.create_engine(\"postgresql://db:db@localhost/db?port=5432\", echo=False)\n",
    "conn = engine.connect()\n",
    "\n",
    "lTable = pd.DataFrame(boston.data);\n",
    "lTable.columns = ['Feature_' + str(x) for x in range(boston.data.shape[1]) ]\n",
    "lTable['TGT'] = boston.target\n",
    "lTable['KEY'] = range(boston.data.shape[0])\n",
    "lTable.to_sql(\"INPUT_DATA\" , conn,   if_exists='replace', index=False)"
   ]
  },
  {
   "cell_type": "code",
   "execution_count": 10,
   "metadata": {},
   "outputs": [],
   "source": [
    "sql_output = pd.read_sql(lSQL , conn);\n",
    "sql_output = sql_output.sort_values(by='KEY').reset_index(drop=True)\n",
    "conn.close()"
   ]
  },
  {
   "cell_type": "code",
   "execution_count": 11,
   "metadata": {},
   "outputs": [
    {
     "data": {
      "text/html": [
       "<div>\n",
       "<style scoped>\n",
       "    .dataframe tbody tr th:only-of-type {\n",
       "        vertical-align: middle;\n",
       "    }\n",
       "\n",
       "    .dataframe tbody tr th {\n",
       "        vertical-align: top;\n",
       "    }\n",
       "\n",
       "    .dataframe thead th {\n",
       "        text-align: right;\n",
       "    }\n",
       "</style>\n",
       "<table border=\"1\" class=\"dataframe\">\n",
       "  <thead>\n",
       "    <tr style=\"text-align: right;\">\n",
       "      <th></th>\n",
       "      <th>KEY</th>\n",
       "      <th>Estimator</th>\n",
       "    </tr>\n",
       "  </thead>\n",
       "  <tbody>\n",
       "    <tr>\n",
       "      <th>230</th>\n",
       "      <td>230</td>\n",
       "      <td>13.809980</td>\n",
       "    </tr>\n",
       "    <tr>\n",
       "      <th>112</th>\n",
       "      <td>112</td>\n",
       "      <td>14.512192</td>\n",
       "    </tr>\n",
       "    <tr>\n",
       "      <th>125</th>\n",
       "      <td>125</td>\n",
       "      <td>15.856553</td>\n",
       "    </tr>\n",
       "    <tr>\n",
       "      <th>9</th>\n",
       "      <td>9</td>\n",
       "      <td>14.788830</td>\n",
       "    </tr>\n",
       "    <tr>\n",
       "      <th>213</th>\n",
       "      <td>213</td>\n",
       "      <td>12.614681</td>\n",
       "    </tr>\n",
       "    <tr>\n",
       "      <th>109</th>\n",
       "      <td>109</td>\n",
       "      <td>14.599835</td>\n",
       "    </tr>\n",
       "    <tr>\n",
       "      <th>127</th>\n",
       "      <td>127</td>\n",
       "      <td>13.986859</td>\n",
       "    </tr>\n",
       "    <tr>\n",
       "      <th>244</th>\n",
       "      <td>244</td>\n",
       "      <td>13.990173</td>\n",
       "    </tr>\n",
       "    <tr>\n",
       "      <th>406</th>\n",
       "      <td>406</td>\n",
       "      <td>13.340092</td>\n",
       "    </tr>\n",
       "    <tr>\n",
       "      <th>490</th>\n",
       "      <td>490</td>\n",
       "      <td>9.774919</td>\n",
       "    </tr>\n",
       "    <tr>\n",
       "      <th>245</th>\n",
       "      <td>245</td>\n",
       "      <td>14.227089</td>\n",
       "    </tr>\n",
       "    <tr>\n",
       "      <th>133</th>\n",
       "      <td>133</td>\n",
       "      <td>13.845306</td>\n",
       "    </tr>\n",
       "  </tbody>\n",
       "</table>\n",
       "</div>"
      ],
      "text/plain": [
       "     KEY  Estimator\n",
       "230  230  13.809980\n",
       "112  112  14.512192\n",
       "125  125  15.856553\n",
       "9      9  14.788830\n",
       "213  213  12.614681\n",
       "109  109  14.599835\n",
       "127  127  13.986859\n",
       "244  244  13.990173\n",
       "406  406  13.340092\n",
       "490  490   9.774919\n",
       "245  245  14.227089\n",
       "133  133  13.845306"
      ]
     },
     "execution_count": 11,
     "metadata": {},
     "output_type": "execute_result"
    }
   ],
   "source": [
    "sql_output.sample(12, random_state=1960)"
   ]
  },
  {
   "cell_type": "markdown",
   "metadata": {},
   "source": [
    "# Keras Prediction"
   ]
  },
  {
   "cell_type": "code",
   "execution_count": 12,
   "metadata": {},
   "outputs": [
    {
     "data": {
      "text/html": [
       "<div>\n",
       "<style scoped>\n",
       "    .dataframe tbody tr th:only-of-type {\n",
       "        vertical-align: middle;\n",
       "    }\n",
       "\n",
       "    .dataframe tbody tr th {\n",
       "        vertical-align: top;\n",
       "    }\n",
       "\n",
       "    .dataframe thead th {\n",
       "        text-align: right;\n",
       "    }\n",
       "</style>\n",
       "<table border=\"1\" class=\"dataframe\">\n",
       "  <thead>\n",
       "    <tr style=\"text-align: right;\">\n",
       "      <th></th>\n",
       "      <th>KEY</th>\n",
       "      <th>Estimator</th>\n",
       "    </tr>\n",
       "  </thead>\n",
       "  <tbody>\n",
       "    <tr>\n",
       "      <th>230</th>\n",
       "      <td>230</td>\n",
       "      <td>13.809980</td>\n",
       "    </tr>\n",
       "    <tr>\n",
       "      <th>112</th>\n",
       "      <td>112</td>\n",
       "      <td>14.512192</td>\n",
       "    </tr>\n",
       "    <tr>\n",
       "      <th>125</th>\n",
       "      <td>125</td>\n",
       "      <td>15.856553</td>\n",
       "    </tr>\n",
       "    <tr>\n",
       "      <th>9</th>\n",
       "      <td>9</td>\n",
       "      <td>14.788830</td>\n",
       "    </tr>\n",
       "    <tr>\n",
       "      <th>213</th>\n",
       "      <td>213</td>\n",
       "      <td>12.614681</td>\n",
       "    </tr>\n",
       "    <tr>\n",
       "      <th>109</th>\n",
       "      <td>109</td>\n",
       "      <td>14.599835</td>\n",
       "    </tr>\n",
       "    <tr>\n",
       "      <th>127</th>\n",
       "      <td>127</td>\n",
       "      <td>13.986859</td>\n",
       "    </tr>\n",
       "    <tr>\n",
       "      <th>244</th>\n",
       "      <td>244</td>\n",
       "      <td>13.990173</td>\n",
       "    </tr>\n",
       "    <tr>\n",
       "      <th>406</th>\n",
       "      <td>406</td>\n",
       "      <td>13.340092</td>\n",
       "    </tr>\n",
       "    <tr>\n",
       "      <th>490</th>\n",
       "      <td>490</td>\n",
       "      <td>9.774919</td>\n",
       "    </tr>\n",
       "    <tr>\n",
       "      <th>245</th>\n",
       "      <td>245</td>\n",
       "      <td>14.227089</td>\n",
       "    </tr>\n",
       "    <tr>\n",
       "      <th>133</th>\n",
       "      <td>133</td>\n",
       "      <td>13.845306</td>\n",
       "    </tr>\n",
       "  </tbody>\n",
       "</table>\n",
       "</div>"
      ],
      "text/plain": [
       "     KEY  Estimator\n",
       "230  230  13.809980\n",
       "112  112  14.512192\n",
       "125  125  15.856553\n",
       "9      9  14.788830\n",
       "213  213  12.614681\n",
       "109  109  14.599835\n",
       "127  127  13.986859\n",
       "244  244  13.990173\n",
       "406  406  13.340092\n",
       "490  490   9.774919\n",
       "245  245  14.227089\n",
       "133  133  13.845306"
      ]
     },
     "execution_count": 12,
     "metadata": {},
     "output_type": "execute_result"
    }
   ],
   "source": [
    "skl_output = pd.DataFrame()\n",
    "skl_output_key = pd.DataFrame(list(range(boston.data.shape[0])), columns=['KEY']);\n",
    "skl_output_estimator = pd.DataFrame(clf.predict(boston.data), columns=['Estimator'])\n",
    "skl_output = skl_output_key\n",
    "skl_output['Estimator'] = skl_output_estimator\n",
    "skl_output.sample(12, random_state=1960)"
   ]
  },
  {
   "cell_type": "markdown",
   "metadata": {
    "format": "column"
   },
   "source": [
    "# Comparing the SQL and Keras Predictions"
   ]
  },
  {
   "cell_type": "code",
   "execution_count": 13,
   "metadata": {},
   "outputs": [],
   "source": [
    "sql_skl_join = skl_output.join(sql_output , how='left', on='KEY', lsuffix='_skl', rsuffix='_sql')\n",
    "sql_skl_join['Error'] = sql_skl_join.Estimator_sql - sql_skl_join.Estimator_skl"
   ]
  },
  {
   "cell_type": "code",
   "execution_count": 14,
   "metadata": {},
   "outputs": [
    {
     "data": {
      "text/html": [
       "<div>\n",
       "<style scoped>\n",
       "    .dataframe tbody tr th:only-of-type {\n",
       "        vertical-align: middle;\n",
       "    }\n",
       "\n",
       "    .dataframe tbody tr th {\n",
       "        vertical-align: top;\n",
       "    }\n",
       "\n",
       "    .dataframe thead th {\n",
       "        text-align: right;\n",
       "    }\n",
       "</style>\n",
       "<table border=\"1\" class=\"dataframe\">\n",
       "  <thead>\n",
       "    <tr style=\"text-align: right;\">\n",
       "      <th></th>\n",
       "      <th>KEY_skl</th>\n",
       "      <th>Estimator_skl</th>\n",
       "      <th>KEY_sql</th>\n",
       "      <th>Estimator_sql</th>\n",
       "      <th>Error</th>\n",
       "    </tr>\n",
       "  </thead>\n",
       "  <tbody>\n",
       "    <tr>\n",
       "      <th>0</th>\n",
       "      <td>0</td>\n",
       "      <td>14.719985</td>\n",
       "      <td>0</td>\n",
       "      <td>14.719985</td>\n",
       "      <td>1.776357e-15</td>\n",
       "    </tr>\n",
       "    <tr>\n",
       "      <th>1</th>\n",
       "      <td>1</td>\n",
       "      <td>15.320518</td>\n",
       "      <td>1</td>\n",
       "      <td>15.320518</td>\n",
       "      <td>-4.440892e-14</td>\n",
       "    </tr>\n",
       "    <tr>\n",
       "      <th>2</th>\n",
       "      <td>2</td>\n",
       "      <td>14.391976</td>\n",
       "      <td>2</td>\n",
       "      <td>14.391976</td>\n",
       "      <td>-1.065814e-14</td>\n",
       "    </tr>\n",
       "    <tr>\n",
       "      <th>3</th>\n",
       "      <td>3</td>\n",
       "      <td>14.174700</td>\n",
       "      <td>3</td>\n",
       "      <td>14.174700</td>\n",
       "      <td>-4.618528e-14</td>\n",
       "    </tr>\n",
       "    <tr>\n",
       "      <th>4</th>\n",
       "      <td>4</td>\n",
       "      <td>14.609911</td>\n",
       "      <td>4</td>\n",
       "      <td>14.609911</td>\n",
       "      <td>-4.796163e-14</td>\n",
       "    </tr>\n",
       "    <tr>\n",
       "      <th>5</th>\n",
       "      <td>5</td>\n",
       "      <td>14.740791</td>\n",
       "      <td>5</td>\n",
       "      <td>14.740791</td>\n",
       "      <td>1.065814e-14</td>\n",
       "    </tr>\n",
       "    <tr>\n",
       "      <th>6</th>\n",
       "      <td>6</td>\n",
       "      <td>14.270077</td>\n",
       "      <td>6</td>\n",
       "      <td>14.270077</td>\n",
       "      <td>8.881784e-15</td>\n",
       "    </tr>\n",
       "    <tr>\n",
       "      <th>7</th>\n",
       "      <td>7</td>\n",
       "      <td>15.584041</td>\n",
       "      <td>7</td>\n",
       "      <td>15.584041</td>\n",
       "      <td>-3.907985e-14</td>\n",
       "    </tr>\n",
       "    <tr>\n",
       "      <th>8</th>\n",
       "      <td>8</td>\n",
       "      <td>15.315529</td>\n",
       "      <td>8</td>\n",
       "      <td>15.315529</td>\n",
       "      <td>1.776357e-14</td>\n",
       "    </tr>\n",
       "    <tr>\n",
       "      <th>9</th>\n",
       "      <td>9</td>\n",
       "      <td>14.788830</td>\n",
       "      <td>9</td>\n",
       "      <td>14.788830</td>\n",
       "      <td>-1.243450e-14</td>\n",
       "    </tr>\n",
       "    <tr>\n",
       "      <th>10</th>\n",
       "      <td>10</td>\n",
       "      <td>15.332056</td>\n",
       "      <td>10</td>\n",
       "      <td>15.332056</td>\n",
       "      <td>-1.776357e-15</td>\n",
       "    </tr>\n",
       "    <tr>\n",
       "      <th>11</th>\n",
       "      <td>11</td>\n",
       "      <td>15.045243</td>\n",
       "      <td>11</td>\n",
       "      <td>15.045243</td>\n",
       "      <td>1.065814e-14</td>\n",
       "    </tr>\n",
       "  </tbody>\n",
       "</table>\n",
       "</div>"
      ],
      "text/plain": [
       "    KEY_skl  Estimator_skl  KEY_sql  Estimator_sql         Error\n",
       "0         0      14.719985        0      14.719985  1.776357e-15\n",
       "1         1      15.320518        1      15.320518 -4.440892e-14\n",
       "2         2      14.391976        2      14.391976 -1.065814e-14\n",
       "3         3      14.174700        3      14.174700 -4.618528e-14\n",
       "4         4      14.609911        4      14.609911 -4.796163e-14\n",
       "5         5      14.740791        5      14.740791  1.065814e-14\n",
       "6         6      14.270077        6      14.270077  8.881784e-15\n",
       "7         7      15.584041        7      15.584041 -3.907985e-14\n",
       "8         8      15.315529        8      15.315529  1.776357e-14\n",
       "9         9      14.788830        9      14.788830 -1.243450e-14\n",
       "10       10      15.332056       10      15.332056 -1.776357e-15\n",
       "11       11      15.045243       11      15.045243  1.065814e-14"
      ]
     },
     "execution_count": 14,
     "metadata": {},
     "output_type": "execute_result"
    }
   ],
   "source": [
    "sql_skl_join.head(12)"
   ]
  },
  {
   "cell_type": "code",
   "execution_count": 15,
   "metadata": {},
   "outputs": [
    {
     "data": {
      "text/html": [
       "<div>\n",
       "<style scoped>\n",
       "    .dataframe tbody tr th:only-of-type {\n",
       "        vertical-align: middle;\n",
       "    }\n",
       "\n",
       "    .dataframe tbody tr th {\n",
       "        vertical-align: top;\n",
       "    }\n",
       "\n",
       "    .dataframe thead th {\n",
       "        text-align: right;\n",
       "    }\n",
       "</style>\n",
       "<table border=\"1\" class=\"dataframe\">\n",
       "  <thead>\n",
       "    <tr style=\"text-align: right;\">\n",
       "      <th></th>\n",
       "      <th>KEY_skl</th>\n",
       "      <th>Estimator_skl</th>\n",
       "      <th>KEY_sql</th>\n",
       "      <th>Estimator_sql</th>\n",
       "      <th>Error</th>\n",
       "    </tr>\n",
       "  </thead>\n",
       "  <tbody>\n",
       "    <tr>\n",
       "      <th>count</th>\n",
       "      <td>506.000000</td>\n",
       "      <td>506.000000</td>\n",
       "      <td>506.000000</td>\n",
       "      <td>506.000000</td>\n",
       "      <td>5.060000e+02</td>\n",
       "    </tr>\n",
       "    <tr>\n",
       "      <th>mean</th>\n",
       "      <td>252.500000</td>\n",
       "      <td>12.611682</td>\n",
       "      <td>252.500000</td>\n",
       "      <td>12.611682</td>\n",
       "      <td>5.042080e-16</td>\n",
       "    </tr>\n",
       "    <tr>\n",
       "      <th>std</th>\n",
       "      <td>146.213884</td>\n",
       "      <td>3.457737</td>\n",
       "      <td>146.213884</td>\n",
       "      <td>3.457737</td>\n",
       "      <td>2.769234e-14</td>\n",
       "    </tr>\n",
       "    <tr>\n",
       "      <th>min</th>\n",
       "      <td>0.000000</td>\n",
       "      <td>0.084647</td>\n",
       "      <td>0.000000</td>\n",
       "      <td>0.084647</td>\n",
       "      <td>-5.684342e-14</td>\n",
       "    </tr>\n",
       "    <tr>\n",
       "      <th>25%</th>\n",
       "      <td>126.250000</td>\n",
       "      <td>12.275996</td>\n",
       "      <td>126.250000</td>\n",
       "      <td>12.275996</td>\n",
       "      <td>-2.309264e-14</td>\n",
       "    </tr>\n",
       "    <tr>\n",
       "      <th>50%</th>\n",
       "      <td>252.500000</td>\n",
       "      <td>13.489934</td>\n",
       "      <td>252.500000</td>\n",
       "      <td>13.489934</td>\n",
       "      <td>1.776357e-15</td>\n",
       "    </tr>\n",
       "    <tr>\n",
       "      <th>75%</th>\n",
       "      <td>378.750000</td>\n",
       "      <td>14.369461</td>\n",
       "      <td>378.750000</td>\n",
       "      <td>14.369461</td>\n",
       "      <td>2.131628e-14</td>\n",
       "    </tr>\n",
       "    <tr>\n",
       "      <th>max</th>\n",
       "      <td>505.000000</td>\n",
       "      <td>18.926894</td>\n",
       "      <td>505.000000</td>\n",
       "      <td>18.926894</td>\n",
       "      <td>6.394885e-14</td>\n",
       "    </tr>\n",
       "  </tbody>\n",
       "</table>\n",
       "</div>"
      ],
      "text/plain": [
       "          KEY_skl  Estimator_skl     KEY_sql  Estimator_sql         Error\n",
       "count  506.000000     506.000000  506.000000     506.000000  5.060000e+02\n",
       "mean   252.500000      12.611682  252.500000      12.611682  5.042080e-16\n",
       "std    146.213884       3.457737  146.213884       3.457737  2.769234e-14\n",
       "min      0.000000       0.084647    0.000000       0.084647 -5.684342e-14\n",
       "25%    126.250000      12.275996  126.250000      12.275996 -2.309264e-14\n",
       "50%    252.500000      13.489934  252.500000      13.489934  1.776357e-15\n",
       "75%    378.750000      14.369461  378.750000      14.369461  2.131628e-14\n",
       "max    505.000000      18.926894  505.000000      18.926894  6.394885e-14"
      ]
     },
     "execution_count": 15,
     "metadata": {},
     "output_type": "execute_result"
    }
   ],
   "source": [
    "sql_skl_join.describe()"
   ]
  },
  {
   "cell_type": "code",
   "execution_count": null,
   "metadata": {},
   "outputs": [],
   "source": []
  }
 ],
 "metadata": {
  "kernelspec": {
   "display_name": "Python 3",
   "language": "python",
   "name": "python3"
  },
  "language_info": {
   "codemirror_mode": {
    "name": "ipython",
    "version": 3
   },
   "file_extension": ".py",
   "mimetype": "text/x-python",
   "name": "python",
   "nbconvert_exporter": "python",
   "pygments_lexer": "ipython3",
   "version": "3.7.3"
  }
 },
 "nbformat": 4,
 "nbformat_minor": 2
}
